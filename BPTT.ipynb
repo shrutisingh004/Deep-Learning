{
  "nbformat": 4,
  "nbformat_minor": 0,
  "metadata": {
    "colab": {
      "provenance": [],
      "authorship_tag": "ABX9TyP3ati5cJjX/q0Ll6QM4HNj",
      "include_colab_link": true
    },
    "kernelspec": {
      "name": "python3",
      "display_name": "Python 3"
    },
    "language_info": {
      "name": "python"
    }
  },
  "cells": [
    {
      "cell_type": "markdown",
      "metadata": {
        "id": "view-in-github",
        "colab_type": "text"
      },
      "source": [
        "<a href=\"https://colab.research.google.com/github/shrutisingh004/Deep-Learning/blob/main/BPTT.ipynb\" target=\"_parent\"><img src=\"https://colab.research.google.com/assets/colab-badge.svg\" alt=\"Open In Colab\"/></a>"
      ]
    },
    {
      "cell_type": "code",
      "execution_count": null,
      "metadata": {
        "id": "eFxhdPnAZGfc"
      },
      "outputs": [],
      "source": [
        "import numpy as np"
      ]
    },
    {
      "cell_type": "code",
      "source": [
        "np.random.seed(0)"
      ],
      "metadata": {
        "id": "sqT-O6oFZUUM"
      },
      "execution_count": null,
      "outputs": []
    },
    {
      "cell_type": "code",
      "source": [
        "def sigmoid(x):\n",
        "    return 1 / (1 + np.exp(-x))\n",
        "\n",
        "def dsigmoid(y):\n",
        "    return y * (1 - y)"
      ],
      "metadata": {
        "id": "tZIVdIMRZW2B"
      },
      "execution_count": null,
      "outputs": []
    },
    {
      "cell_type": "code",
      "source": [
        "input_size = 1\n",
        "hidden_size = 5\n",
        "output_size = 1\n",
        "learning_rate = 0.1\n",
        "sequence_length = 4"
      ],
      "metadata": {
        "id": "Dvgz2WBuZaRu"
      },
      "execution_count": null,
      "outputs": []
    },
    {
      "cell_type": "code",
      "source": [
        "Wxh = np.random.randn(hidden_size, input_size) * 0.1\n",
        "Whh = np.random.randn(hidden_size, hidden_size) * 0.1\n",
        "Why = np.random.randn(output_size, hidden_size) * 0.1\n",
        "\n",
        "bh = np.zeros((hidden_size, 1))\n",
        "by = np.zeros((output_size, 1))"
      ],
      "metadata": {
        "id": "UeLLK0ClZeU3"
      },
      "execution_count": null,
      "outputs": []
    },
    {
      "cell_type": "code",
      "source": [
        "inputs = [np.array([[0]]), np.array([[1]]), np.array([[0]]), np.array([[1]])]\n",
        "targets = [np.array([[1]]), np.array([[0]]), np.array([[1]]), np.array([[0]])]"
      ],
      "metadata": {
        "id": "HmYUoBZ7Zjvz"
      },
      "execution_count": null,
      "outputs": []
    },
    {
      "cell_type": "code",
      "source": [
        "for epoch in range(1000):\n",
        "    hs = {}\n",
        "    hs[-1] = np.zeros((hidden_size, 1))\n",
        "    ys = {}\n",
        "    loss = 0\n",
        "    for t in range(sequence_length):\n",
        "        x = inputs[t]\n",
        "        hs[t] = sigmoid(np.dot(Wxh, x) + np.dot(Whh, hs[t-1]) + bh)\n",
        "        ys[t] = sigmoid(np.dot(Why, hs[t]) + by)\n",
        "        loss += 0.5 * np.square(ys[t] - targets[t])\n",
        "\n",
        "    dWxh = np.zeros_like(Wxh)\n",
        "    dWhh = np.zeros_like(Whh)\n",
        "    dWhy = np.zeros_like(Why)\n",
        "    dbh = np.zeros_like(bh)\n",
        "    dby = np.zeros_like(by)\n",
        "    dh_next = np.zeros_like(hs[0])\n",
        "\n",
        "    for t in reversed(range(sequence_length)):\n",
        "        dy = (ys[t] - targets[t]) * dsigmoid(ys[t])\n",
        "        dWhy += np.dot(dy, hs[t].T)\n",
        "        dby += dy\n",
        "\n",
        "        dh = np.dot(Why.T, dy) + dh_next\n",
        "        dh_raw = dh * dsigmoid(hs[t])\n",
        "        dbh += dh_raw\n",
        "        dWxh += np.dot(dh_raw, inputs[t].T)\n",
        "        dWhh += np.dot(dh_raw, hs[t-1].T)\n",
        "        dh_next = np.dot(Whh.T, dh_raw)\n",
        "\n",
        "    for dparam in [dWxh, dWhh, dWhy, dbh, dby]:\n",
        "        np.clip(dparam, -1, 1, out=dparam)\n",
        "\n",
        "    Wxh -= learning_rate * dWxh\n",
        "    Whh -= learning_rate * dWhh\n",
        "    Why -= learning_rate * dWhy\n",
        "    bh -= learning_rate * dbh\n",
        "    by -= learning_rate * dby\n",
        "\n",
        "    if epoch % 100 == 0:\n",
        "        print(f\"Epoch {epoch}, Loss: {np.sum(loss):.4f}\")"
      ],
      "metadata": {
        "colab": {
          "base_uri": "https://localhost:8080/"
        },
        "id": "UHBU56T4Zscl",
        "outputId": "2f261eec-7d56-42f4-8caf-10be3775d975"
      },
      "execution_count": null,
      "outputs": [
        {
          "output_type": "stream",
          "name": "stdout",
          "text": [
            "Epoch 0, Loss: 0.5017\n",
            "Epoch 100, Loss: 0.4963\n",
            "Epoch 200, Loss: 0.4850\n",
            "Epoch 300, Loss: 0.4491\n",
            "Epoch 400, Loss: 0.3657\n",
            "Epoch 500, Loss: 0.2344\n",
            "Epoch 600, Loss: 0.1187\n",
            "Epoch 700, Loss: 0.0609\n",
            "Epoch 800, Loss: 0.0361\n",
            "Epoch 900, Loss: 0.0242\n"
          ]
        }
      ]
    },
    {
      "cell_type": "code",
      "source": [
        "print(\"\\nTesting after training:\")\n",
        "hs[-1] = np.zeros((hidden_size, 1))\n",
        "for t in range(sequence_length):\n",
        "    hs[t] = sigmoid(np.dot(Wxh, inputs[t]) + np.dot(Whh, hs[t-1]) + bh)\n",
        "    y = sigmoid(np.dot(Why, hs[t]) + by)\n",
        "    print(f\"Input: {inputs[t].flatten()[0]} → Predicted: {round(y.flatten()[0], 3)}\")"
      ],
      "metadata": {
        "colab": {
          "base_uri": "https://localhost:8080/"
        },
        "id": "t1xwRfG7Z1vZ",
        "outputId": "6a6c780a-b15e-478d-b720-ca0d363d3f93"
      },
      "execution_count": null,
      "outputs": [
        {
          "output_type": "stream",
          "name": "stdout",
          "text": [
            "\n",
            "Testing after training:\n",
            "Input: 0 → Predicted: 0.908\n",
            "Input: 1 → Predicted: 0.095\n",
            "Input: 0 → Predicted: 0.909\n",
            "Input: 1 → Predicted: 0.097\n"
          ]
        }
      ]
    }
  ]
}